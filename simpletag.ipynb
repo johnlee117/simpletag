{
 "cells": [
  {
   "cell_type": "code",
   "execution_count": 1,
   "metadata": {},
   "outputs": [],
   "source": [
    "import random\n",
    "import time\n",
    "import operator\n",
    "import pandas as pd"
   ]
  },
  {
   "cell_type": "code",
   "execution_count": 2,
   "metadata": {},
   "outputs": [],
   "source": [
    "# load in data and create var\n",
    "file_path = \"./user_taggedbookmarks-timestamps.dat\"\n",
    "records = {}\n",
    "train_data = dict()\n",
    "test_data = dict()\n",
    "user_tags = dict()\n",
    "tag_items = dict()\n",
    "user_items = dict()"
   ]
  },
  {
   "cell_type": "code",
   "execution_count": 3,
   "metadata": {},
   "outputs": [],
   "source": [
    "# use test_dataset to derive accuracy and recall\n",
    "def precisionAndRecall(N):\n",
    "    hit = 0\n",
    "    h_recall = 0\n",
    "    h_precision = 0\n",
    "    for user, items in test_data.items():\n",
    "        if user not in train_data:\n",
    "            continue\n",
    "        rank = recommend(user, N)\n",
    "        for item, rui in rank:\n",
    "            if item in items:\n",
    "                hit += 1\n",
    "        h_recall += len(items)\n",
    "        h_precision += N\n",
    "    h_recall = hit/(h_recall*1.0)\n",
    "    h_precision = hit/(h_precision*1.0)\n",
    "    return (h_precision, h_recall)"
   ]
  },
  {
   "cell_type": "code",
   "execution_count": 4,
   "metadata": {},
   "outputs": [],
   "source": [
    "# recommend topN to the users\n",
    "def recommend(user, N):\n",
    "    recommend_items = dict()\n",
    "    tagged_items = user_items[user]\n",
    "    for tag, wut in user_tags[user].items():\n",
    "        for item, wti in tag_items[tag].items():\n",
    "            if item in tagged_items:\n",
    "                continue\n",
    "            if item not in recommend_items:\n",
    "                recommend_items[item] = wut * wti\n",
    "            else:\n",
    "                recommend_items[item] = recommend_items[item] + wut * wti\n",
    "    return sorted(recommend_items.items(), key=operator.itemgetter(1), reverse=True)[0:N]"
   ]
  },
  {
   "cell_type": "code",
   "execution_count": 5,
   "metadata": {},
   "outputs": [],
   "source": [
    "# use the test_dataset to evaluate the recommendation results\n",
    "def testRecommend():\n",
    "    print(\"推荐结果评估\")\n",
    "    print(\"%3s %10s %10s\" % ('N', \"精确率\",\"召回率\"))\n",
    "    for n in [5,10,20,40,60,80,100]:\n",
    "        precision, recall = precisionAndRecall(n)\n",
    "        print(\"%3d %10.3f%% %10.3f%%\" % (n, precision * 100, recall * 100))"
   ]
  },
  {
   "cell_type": "code",
   "execution_count": 6,
   "metadata": {},
   "outputs": [],
   "source": [
    "# load in data\n",
    "def load_data():\n",
    "    print(\"开始加载数据...\")\n",
    "    df = pd.read_csv(file_path, sep='\\t')\n",
    "    for i in range(len(df)):\n",
    "        uid = df['userID'][i]\n",
    "        iid = df['bookmarkID'][i]\n",
    "        tag = df['tagID'][i]\n",
    "        records.setdefault(uid,{})\n",
    "        records[uid].setdefault(iid,[])\n",
    "        records[uid][iid].append(tag)\n",
    "    print(\"数据集大小为 %d.\" % (len(df)))\n",
    "    print(\"设置tag的人数 %d.\" % (len(records)))\n",
    "    print(\"数据加载完成\\n\")"
   ]
  },
  {
   "cell_type": "code",
   "execution_count": 7,
   "metadata": {},
   "outputs": [],
   "source": [
    "def train_test_split(ratio, seed=100):\n",
    "    random.seed(seed)\n",
    "    for u in records.keys():\n",
    "        for i in records[u].keys():\n",
    "            if random.random()<ratio:\n",
    "                test_data.setdefault(u,{})\n",
    "                test_data[u].setdefault(i,[])\n",
    "                for t in records[u][i]:\n",
    "                    test_data[u][i].append(t)\n",
    "            else:\n",
    "                train_data.setdefault(u,{})\n",
    "                train_data[u].setdefault(i,[])\n",
    "                for t in records[u][i]:\n",
    "                    train_data[u][i].append(t)\n",
    "    print(\"训练集样本数 %d, 测试集样本数 %d\" % (len(train_data),len(test_data)))"
   ]
  },
  {
   "cell_type": "code",
   "execution_count": 8,
   "metadata": {},
   "outputs": [],
   "source": [
    "def addValueToMat(mat, index, item, value=1):\n",
    "    if index not in mat:\n",
    "        mat.setdefault(index,{})\n",
    "        mat[index].setdefault(item,value)\n",
    "    else:\n",
    "        if item not in mat[index]:\n",
    "            mat[index][item] = value\n",
    "        else:\n",
    "            mat[index][item] += value"
   ]
  },
  {
   "cell_type": "code",
   "execution_count": 9,
   "metadata": {},
   "outputs": [],
   "source": [
    "def initSata():\n",
    "    records = train_data\n",
    "    for u, items in records.items():\n",
    "        for i, tags in items.items():\n",
    "            for tag in tags:\n",
    "                addValueToMat(user_tags, u, tag, 1)\n",
    "                addValueToMat(tag_items, tag, i, 1)\n",
    "                addValueToMat(user_items, u, i, 1)\n",
    "    print(\"user_tags, tag_items, user_items初始化完成。\")\n",
    "    print(\"user_tags大小 %d, tag_items大小 %d, user_items大小 %d\" % (len(user_tags), len(tag_items), len(user_items)))"
   ]
  },
  {
   "cell_type": "code",
   "execution_count": 10,
   "metadata": {},
   "outputs": [
    {
     "name": "stdout",
     "output_type": "stream",
     "text": [
      "开始加载数据...\n",
      "数据集大小为 437593.\n",
      "设置tag的人数 1867.\n",
      "数据加载完成\n",
      "\n",
      "训练集样本数 1860, 测试集样本数 1793\n"
     ]
    }
   ],
   "source": [
    "start = time.time()\n",
    "load_data()\n",
    "mid1 = time.time()\n",
    "train_test_split(0.2)\n",
    "# mid2 = time.time()    \n",
    "# initSata()    \n",
    "# mid3 = time.time()\n",
    "# testRecommend()        \n",
    "# end = time.time()"
   ]
  },
  {
   "cell_type": "code",
   "execution_count": 36,
   "metadata": {},
   "outputs": [
    {
     "data": {
      "text/plain": [
       "{1: [1],\n",
       " 15: [1, 19],\n",
       " 17: [1, 20],\n",
       " 26: [1, 29],\n",
       " 27: [1, 30],\n",
       " 41: [43],\n",
       " 43: [44],\n",
       " 44: [45],\n",
       " 52: [57],\n",
       " 63: [70],\n",
       " 96: [111]}"
      ]
     },
     "execution_count": 36,
     "metadata": {},
     "output_type": "execute_result"
    }
   ],
   "source": [
    "test_data[8]"
   ]
  },
  {
   "cell_type": "code",
   "execution_count": 37,
   "metadata": {},
   "outputs": [
    {
     "data": {
      "text/plain": [
       "{2: [1],\n",
       " 7: [1, 6, 7],\n",
       " 8: [1, 8, 9],\n",
       " 9: [1, 10],\n",
       " 10: [1, 11],\n",
       " 11: [1, 12, 13],\n",
       " 14: [1, 15, 16, 17, 18],\n",
       " 16: [1, 5],\n",
       " 18: [1, 21],\n",
       " 19: [1, 22],\n",
       " 20: [1, 23],\n",
       " 22: [1, 10, 25],\n",
       " 24: [1, 27],\n",
       " 25: [1, 28],\n",
       " 30: [1, 33],\n",
       " 32: [1, 35],\n",
       " 33: [1, 36],\n",
       " 34: [1, 37],\n",
       " 35: [1, 38],\n",
       " 36: [1, 39],\n",
       " 37: [1, 40],\n",
       " 38: [1, 41],\n",
       " 42: [43],\n",
       " 45: [46],\n",
       " 46: [47],\n",
       " 48: [49, 50, 51, 52],\n",
       " 53: [51, 58, 59, 60, 61],\n",
       " 58: [2, 66],\n",
       " 59: [56],\n",
       " 60: [2, 67],\n",
       " 61: [1, 68],\n",
       " 62: [69],\n",
       " 64: [71],\n",
       " 65: [71],\n",
       " 68: [45, 76, 77],\n",
       " 71: [44],\n",
       " 72: [45, 79],\n",
       " 73: [24, 56, 80],\n",
       " 74: [24, 81, 82, 83],\n",
       " 75: [45, 76, 84],\n",
       " 76: [45, 76],\n",
       " 78: [45, 76, 86, 87],\n",
       " 79: [45, 88, 89, 90, 91, 92, 93],\n",
       " 80: [45, 88, 94, 95],\n",
       " 81: [96, 97],\n",
       " 82: [68, 98, 99, 100],\n",
       " 83: [2, 101, 102],\n",
       " 84: [2, 103],\n",
       " 85: [104, 105],\n",
       " 87: [2, 25, 82, 108],\n",
       " 88: [2, 25, 66, 82, 106],\n",
       " 89: [82, 109],\n",
       " 90: [24],\n",
       " 91: [24],\n",
       " 92: [24],\n",
       " 93: [24, 25, 66],\n",
       " 94: [2],\n",
       " 98: [112],\n",
       " 99: [113]}"
      ]
     },
     "execution_count": 37,
     "metadata": {},
     "output_type": "execute_result"
    }
   ],
   "source": [
    "train_data[8]"
   ]
  },
  {
   "cell_type": "code",
   "execution_count": null,
   "metadata": {},
   "outputs": [],
   "source": []
  }
 ],
 "metadata": {
  "interpreter": {
   "hash": "13f33c789f1af2cf5b3d9a10229527adea4701fd35bb186d1994877fd73472fd"
  },
  "kernelspec": {
   "display_name": "Python 3.8.5 ('base')",
   "language": "python",
   "name": "python3"
  },
  "language_info": {
   "codemirror_mode": {
    "name": "ipython",
    "version": 3
   },
   "file_extension": ".py",
   "mimetype": "text/x-python",
   "name": "python",
   "nbconvert_exporter": "python",
   "pygments_lexer": "ipython3",
   "version": "3.8.5"
  },
  "orig_nbformat": 4
 },
 "nbformat": 4,
 "nbformat_minor": 2
}
