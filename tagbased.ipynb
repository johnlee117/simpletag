{
 "cells": [
  {
   "cell_type": "code",
   "execution_count": 1,
   "metadata": {},
   "outputs": [],
   "source": [
    "import operator\n",
    "import time\n",
    "import random\n",
    "import pandas as pd\n",
    "import numpy as np"
   ]
  },
  {
   "cell_type": "code",
   "execution_count": 2,
   "metadata": {},
   "outputs": [
    {
     "name": "stdout",
     "output_type": "stream",
     "text": [
      "execute time:  0.13997 s\n",
      "\n",
      "<class 'pandas.core.frame.DataFrame'>\n",
      "RangeIndex: 437593 entries, 0 to 437592\n",
      "Data columns (total 4 columns):\n",
      " #   Column      Non-Null Count   Dtype\n",
      "---  ------      --------------   -----\n",
      " 0   userID      437593 non-null  int64\n",
      " 1   bookmarkID  437593 non-null  int64\n",
      " 2   tagID       437593 non-null  int64\n",
      " 3   timestamp   437593 non-null  int64\n",
      "dtypes: int64(4)\n",
      "memory usage: 13.4 MB\n"
     ]
    }
   ],
   "source": [
    "# load data\n",
    "start = time.time()\n",
    "table = pd.read_table('user_taggedbookmarks-timestamps.dat', sep='\\t')\n",
    "end = time.time()\n",
    "print(\"execute time: \", '%.5f'%(end-start), 's\\n')\n",
    "table.info()"
   ]
  },
  {
   "cell_type": "code",
   "execution_count": 3,
   "metadata": {},
   "outputs": [
    {
     "data": {
      "text/html": [
       "<div>\n",
       "<style scoped>\n",
       "    .dataframe tbody tr th:only-of-type {\n",
       "        vertical-align: middle;\n",
       "    }\n",
       "\n",
       "    .dataframe tbody tr th {\n",
       "        vertical-align: top;\n",
       "    }\n",
       "\n",
       "    .dataframe thead th {\n",
       "        text-align: right;\n",
       "    }\n",
       "</style>\n",
       "<table border=\"1\" class=\"dataframe\">\n",
       "  <thead>\n",
       "    <tr style=\"text-align: right;\">\n",
       "      <th></th>\n",
       "      <th>userID</th>\n",
       "      <th>bookmarkID</th>\n",
       "      <th>tagID</th>\n",
       "      <th>timestamp</th>\n",
       "    </tr>\n",
       "  </thead>\n",
       "  <tbody>\n",
       "    <tr>\n",
       "      <th>0</th>\n",
       "      <td>8</td>\n",
       "      <td>1</td>\n",
       "      <td>1</td>\n",
       "      <td>1289255362000</td>\n",
       "    </tr>\n",
       "    <tr>\n",
       "      <th>1</th>\n",
       "      <td>8</td>\n",
       "      <td>2</td>\n",
       "      <td>1</td>\n",
       "      <td>1289255159000</td>\n",
       "    </tr>\n",
       "    <tr>\n",
       "      <th>2</th>\n",
       "      <td>8</td>\n",
       "      <td>7</td>\n",
       "      <td>1</td>\n",
       "      <td>1289238901000</td>\n",
       "    </tr>\n",
       "    <tr>\n",
       "      <th>3</th>\n",
       "      <td>8</td>\n",
       "      <td>7</td>\n",
       "      <td>6</td>\n",
       "      <td>1289238901000</td>\n",
       "    </tr>\n",
       "    <tr>\n",
       "      <th>4</th>\n",
       "      <td>8</td>\n",
       "      <td>7</td>\n",
       "      <td>7</td>\n",
       "      <td>1289238901000</td>\n",
       "    </tr>\n",
       "  </tbody>\n",
       "</table>\n",
       "</div>"
      ],
      "text/plain": [
       "   userID  bookmarkID  tagID      timestamp\n",
       "0       8           1      1  1289255362000\n",
       "1       8           2      1  1289255159000\n",
       "2       8           7      1  1289238901000\n",
       "3       8           7      6  1289238901000\n",
       "4       8           7      7  1289238901000"
      ]
     },
     "execution_count": 3,
     "metadata": {},
     "output_type": "execute_result"
    }
   ],
   "source": [
    "table.head()"
   ]
  },
  {
   "cell_type": "code",
   "execution_count": 4,
   "metadata": {},
   "outputs": [
    {
     "name": "stdout",
     "output_type": "stream",
     "text": [
      "1867 69223 40897\n"
     ]
    }
   ],
   "source": [
    "n1 = table['userID'].nunique()\n",
    "n2 = table['bookmarkID'].nunique()\n",
    "n3 = table['tagID'].nunique()\n",
    "print(n1, n2, n3)"
   ]
  },
  {
   "cell_type": "code",
   "execution_count": 5,
   "metadata": {},
   "outputs": [
    {
     "name": "stdout",
     "output_type": "stream",
     "text": [
      "execute time:  0.05650 s\n",
      "Split train test dataset by stratification, time took: 1.15017\n"
     ]
    }
   ],
   "source": [
    "ratio = 0.2\n",
    "seed = 88\n",
    "random.seed(seed)   ##设定seed后，使用 random() 生成的随机数将会是同一个\n",
    "\n",
    "start = time.time()\n",
    "\n",
    "stratify_count = table.groupby(by='userID')['userID'].count()  ##统计每个userID有多少条记录\n",
    "stratify_df = pd.DataFrame({'count':stratify_count})    ##插入count字段    \n",
    "stratify_df['test_num'] = (stratify_df['count'] * ratio).apply(int)     ##插入test_num字段，test数据集的比例个数\n",
    "test_id = []\n",
    "train_id = []\n",
    "\n",
    "stratify_df['ids'] = stratify_df.index.map(lambda x: table[table['userID'] == x].index.tolist())    ##统计每个user包含的记录\n",
    "stratify_df['test_index'] = stratify_df.apply(lambda x: random.sample(x['ids'], x['test_num']), axis=1)     ##划分test集的内容\n",
    "stratify_df['train_index'] = stratify_df.apply(lambda x: list(set(x['ids']) - set(x['test_index'])), axis =1)   ##划分train集的内容\n",
    "stratify_df['test_index'].apply(lambda x: test_id.extend(x))        ##将test_index中内容注入test_id，下同\n",
    "stratify_df['train_index'].apply(lambda x: train_id.extend(x))\n",
    "\n",
    "mid = time.time()\n",
    "\n",
    "train_data = table.iloc[train_id].reset_index(drop=True)    ##drop：是否drop掉原index\n",
    "test_data = table.iloc[test_id].reset_index(drop=True)      ##按test_index的内容(index)取回table中相应的记录，上同...\n",
    "\n",
    "end = time.time()\n",
    "print(\"execute time: \", '%.5f'%(end-mid), 's')\n",
    "print('Split train test dataset by stratification, time took: %.5f' % (end - start))"
   ]
  },
  {
   "cell_type": "code",
   "execution_count": 6,
   "metadata": {},
   "outputs": [
    {
     "data": {
      "text/html": [
       "<div>\n",
       "<style scoped>\n",
       "    .dataframe tbody tr th:only-of-type {\n",
       "        vertical-align: middle;\n",
       "    }\n",
       "\n",
       "    .dataframe tbody tr th {\n",
       "        vertical-align: top;\n",
       "    }\n",
       "\n",
       "    .dataframe thead th {\n",
       "        text-align: right;\n",
       "    }\n",
       "</style>\n",
       "<table border=\"1\" class=\"dataframe\">\n",
       "  <thead>\n",
       "    <tr style=\"text-align: right;\">\n",
       "      <th></th>\n",
       "      <th>count</th>\n",
       "      <th>test_num</th>\n",
       "      <th>ids</th>\n",
       "      <th>test_index</th>\n",
       "      <th>train_index</th>\n",
       "    </tr>\n",
       "    <tr>\n",
       "      <th>userID</th>\n",
       "      <th></th>\n",
       "      <th></th>\n",
       "      <th></th>\n",
       "      <th></th>\n",
       "      <th></th>\n",
       "    </tr>\n",
       "  </thead>\n",
       "  <tbody>\n",
       "    <tr>\n",
       "      <th>8</th>\n",
       "      <td>153</td>\n",
       "      <td>30</td>\n",
       "      <td>[0, 1, 2, 3, 4, 5, 6, 7, 8, 9, 10, 11, 12, 13,...</td>\n",
       "      <td>[101, 48, 85, 47, 3, 134, 2, 87, 118, 34, 57, ...</td>\n",
       "      <td>[0, 1, 4, 5, 6, 7, 8, 9, 10, 11, 12, 13, 14, 1...</td>\n",
       "    </tr>\n",
       "    <tr>\n",
       "      <th>32</th>\n",
       "      <td>25</td>\n",
       "      <td>5</td>\n",
       "      <td>[153, 154, 155, 156, 157, 158, 159, 160, 161, ...</td>\n",
       "      <td>[159, 160, 158, 153, 173]</td>\n",
       "      <td>[154, 155, 156, 157, 161, 162, 163, 164, 165, ...</td>\n",
       "    </tr>\n",
       "    <tr>\n",
       "      <th>57</th>\n",
       "      <td>60</td>\n",
       "      <td>12</td>\n",
       "      <td>[178, 179, 180, 181, 182, 183, 184, 185, 186, ...</td>\n",
       "      <td>[211, 207, 228, 237, 179, 230, 209, 223, 202, ...</td>\n",
       "      <td>[178, 180, 181, 182, 183, 184, 185, 186, 187, ...</td>\n",
       "    </tr>\n",
       "    <tr>\n",
       "      <th>147</th>\n",
       "      <td>410</td>\n",
       "      <td>82</td>\n",
       "      <td>[238, 239, 240, 241, 242, 243, 244, 245, 246, ...</td>\n",
       "      <td>[494, 272, 489, 313, 433, 244, 308, 302, 457, ...</td>\n",
       "      <td>[238, 239, 240, 241, 242, 243, 245, 247, 249, ...</td>\n",
       "    </tr>\n",
       "    <tr>\n",
       "      <th>233</th>\n",
       "      <td>343</td>\n",
       "      <td>68</td>\n",
       "      <td>[648, 649, 650, 651, 652, 653, 654, 655, 656, ...</td>\n",
       "      <td>[911, 717, 895, 801, 962, 964, 792, 694, 918, ...</td>\n",
       "      <td>[648, 650, 651, 652, 653, 654, 655, 657, 658, ...</td>\n",
       "    </tr>\n",
       "  </tbody>\n",
       "</table>\n",
       "</div>"
      ],
      "text/plain": [
       "        count  test_num                                                ids  \\\n",
       "userID                                                                       \n",
       "8         153        30  [0, 1, 2, 3, 4, 5, 6, 7, 8, 9, 10, 11, 12, 13,...   \n",
       "32         25         5  [153, 154, 155, 156, 157, 158, 159, 160, 161, ...   \n",
       "57         60        12  [178, 179, 180, 181, 182, 183, 184, 185, 186, ...   \n",
       "147       410        82  [238, 239, 240, 241, 242, 243, 244, 245, 246, ...   \n",
       "233       343        68  [648, 649, 650, 651, 652, 653, 654, 655, 656, ...   \n",
       "\n",
       "                                               test_index  \\\n",
       "userID                                                      \n",
       "8       [101, 48, 85, 47, 3, 134, 2, 87, 118, 34, 57, ...   \n",
       "32                              [159, 160, 158, 153, 173]   \n",
       "57      [211, 207, 228, 237, 179, 230, 209, 223, 202, ...   \n",
       "147     [494, 272, 489, 313, 433, 244, 308, 302, 457, ...   \n",
       "233     [911, 717, 895, 801, 962, 964, 792, 694, 918, ...   \n",
       "\n",
       "                                              train_index  \n",
       "userID                                                     \n",
       "8       [0, 1, 4, 5, 6, 7, 8, 9, 10, 11, 12, 13, 14, 1...  \n",
       "32      [154, 155, 156, 157, 161, 162, 163, 164, 165, ...  \n",
       "57      [178, 180, 181, 182, 183, 184, 185, 186, 187, ...  \n",
       "147     [238, 239, 240, 241, 242, 243, 245, 247, 249, ...  \n",
       "233     [648, 650, 651, 652, 653, 654, 655, 657, 658, ...  "
      ]
     },
     "execution_count": 6,
     "metadata": {},
     "output_type": "execute_result"
    }
   ],
   "source": [
    "stratify_df.head()"
   ]
  },
  {
   "cell_type": "code",
   "execution_count": 7,
   "metadata": {},
   "outputs": [
    {
     "name": "stdout",
     "output_type": "stream",
     "text": [
      "<class 'pandas.core.frame.DataFrame'>\n",
      "Int64Index: 1867 entries, 8 to 108035\n",
      "Data columns (total 5 columns):\n",
      " #   Column       Non-Null Count  Dtype \n",
      "---  ------       --------------  ----- \n",
      " 0   count        1867 non-null   int64 \n",
      " 1   test_num     1867 non-null   int64 \n",
      " 2   ids          1867 non-null   object\n",
      " 3   test_index   1867 non-null   object\n",
      " 4   train_index  1867 non-null   object\n",
      "dtypes: int64(2), object(3)\n",
      "memory usage: 87.5+ KB\n"
     ]
    }
   ],
   "source": [
    "stratify_df.info()"
   ]
  },
  {
   "cell_type": "code",
   "execution_count": 8,
   "metadata": {},
   "outputs": [
    {
     "name": "stdout",
     "output_type": "stream",
     "text": [
      "execute time:  0.04535\n",
      "execute time:  0.05944\n",
      "execute time:  0.10071\n",
      "execute time:  0.06288\n"
     ]
    }
   ],
   "source": [
    "start = time.time()\n",
    "\n",
    "# user -> item\n",
    "user_item = train_data.groupby(by=['userID', 'bookmarkID'])['tagID'].count()    ##user对每个item打了几个tag\n",
    "mid1 = time.time()\n",
    "# user -> tag\n",
    "user_tag = train_data.groupby(by=['userID', 'tagID'])['bookmarkID'].count()     ##user为每个tag添加的item数\n",
    "mid2 = time.time()\n",
    "# tag -> item\n",
    "tag_item = train_data.groupby(by=['tagID', 'bookmarkID'])['userID'].count()     ##为同一个item打了同一个tag的人数\n",
    "mid3 = time.time()\n",
    "# tag -> user\n",
    "tag_user = train_data.groupby(by=['tagID', 'userID'])['bookmarkID'].count()     ##同user_tag，不同显示方式\n",
    "end = time.time()\n",
    "\n",
    "print('execute time: ', '%.5f'%(mid1-start))\n",
    "print('execute time: ', '%.5f'%(mid2-mid1))\n",
    "print('execute time: ', '%.5f'%(mid3-mid2))     # why longer time?\n",
    "print('execute time: ', '%.5f'%(end-mid3))"
   ]
  },
  {
   "cell_type": "code",
   "execution_count": 9,
   "metadata": {},
   "outputs": [
    {
     "data": {
      "text/plain": [
       "userID  bookmarkID\n",
       "8       1             1\n",
       "        2             1\n",
       "        7             1\n",
       "        8             3\n",
       "        9             2\n",
       "Name: tagID, dtype: int64"
      ]
     },
     "execution_count": 9,
     "metadata": {},
     "output_type": "execute_result"
    }
   ],
   "source": [
    "user_item.head()\n",
    "# user_tag.head()"
   ]
  },
  {
   "cell_type": "code",
   "execution_count": 10,
   "metadata": {},
   "outputs": [],
   "source": [
    "user_id = 8\n",
    "n = 10"
   ]
  },
  {
   "cell_type": "code",
   "execution_count": 11,
   "metadata": {},
   "outputs": [],
   "source": [
    "def calculate(user_id, user_item, user_tag, tag_item, n, method):\n",
    "    marked_item = user_item[user_id].index      # 该用户mark过的item是哪些\n",
    "    recommend = {}\n",
    "    # user_id -> tag -> item -> count\n",
    "    marked_tag = user_tag.loc[user_id]          # 该用户mark过的每个tag的次数\n",
    "    marked_tag_sum = marked_tag.values.sum()    # 该用户mark过的tag的总数\n",
    "\n",
    "    for tag_index, tag_count in marked_tag.iteritems():     # 每次取marked_tag的一行，此处都是该用户用过的tag\n",
    "        selected_item = tag_item.loc[tag_index]             # 每个item被打上该tag的次数\n",
    "        selected_item_sum = selected_item.values.sum()      # 统计该tag的总人次\n",
    "        tag_selected_users_sum = tag_user.loc[tag_index].values.sum()   # 统计该tag的总次数\n",
    "        for item_index, tag_item_count in selected_item.iteritems():    # 该用户用过的tag包含的item及这些item的被tag次数（所有人），这些item有来自该用户的，也有其他人的\n",
    "            if item_index in marked_item:\n",
    "                continue\n",
    "            if item_index not in recommend:\n",
    "                if method == 'norm':\n",
    "                    recommend[item_index] = (tag_count / marked_tag_sum) * (tag_item_count / selected_item_sum)\n",
    "                elif method == 'simple':\n",
    "                    recommend[item_index] = tag_count * tag_item_count\n",
    "                elif method == 'tfidf':\n",
    "                    recommend[item_index] = tag_count / np.log(1 + tag_selected_users_sum) * tag_item_count\n",
    "                else:\n",
    "                    raise TypeError(\"Invalid method '{}'\".format(method))\n",
    "            else:       # 针对被不同tag标过的同一个item（未被该用户消费过的）\n",
    "                if method == 'norm':\n",
    "                    recommend[item_index] += (tag_count / marked_tag_sum) * (tag_item_count / selected_item_sum)\n",
    "                elif method == 'simple':\n",
    "                    recommend[item_index] += tag_count * tag_item_count\n",
    "                elif method == 'tfidf':\n",
    "                    recommend[item_index] += tag_count / np.log(1 + tag_selected_users_sum) * tag_item_count\n",
    "                else:\n",
    "                    raise TypeError(\"Invalid method '{}'\".format(method))\n",
    "    sorted_recommend = sorted(recommend.items(), key=lambda x: (x[1]), reverse=True)[:n]\n",
    "    return {user_id: dict(sorted_recommend)}"
   ]
  },
  {
   "cell_type": "code",
   "execution_count": 12,
   "metadata": {},
   "outputs": [],
   "source": [
    "def predict(user_id, n, method='simple'):\n",
    "    return calculate(user_id, user_item, user_tag, tag_item, n, method)"
   ]
  },
  {
   "cell_type": "code",
   "execution_count": 24,
   "metadata": {},
   "outputs": [
    {
     "name": "stdout",
     "output_type": "stream",
     "text": [
      "execute time:  0.03130 s\n",
      "execute time:  0.04545 s\n",
      "execute time:  0.02567 s\n"
     ]
    }
   ],
   "source": [
    "start = time.time()\n",
    "\n",
    "p1_simple = predict(32, 10)\n",
    "mid1 = time.time()\n",
    "\n",
    "p1_tf = predict(32, 10, method='tfidf')\n",
    "mid2 = time.time()\n",
    "\n",
    "p1_normal = predict(32, 10, method='norm')\n",
    "end = time.time()\n",
    "\n",
    "print('execute time: ', '%.5f'%(mid1 - start) , 's')\n",
    "print('execute time: ', '%.5f'%(mid2 - mid1) , 's')\n",
    "print('execute time: ', '%.5f'%(end - mid2) , 's')"
   ]
  },
  {
   "cell_type": "code",
   "execution_count": 19,
   "metadata": {},
   "outputs": [
    {
     "data": {
      "text/plain": [
       "{32: {1554: 10,\n",
       "  358: 8,\n",
       "  363: 8,\n",
       "  2178: 7,\n",
       "  4725: 7,\n",
       "  10230: 7,\n",
       "  3112: 7,\n",
       "  3520: 7,\n",
       "  7974: 7,\n",
       "  1188: 6}}"
      ]
     },
     "execution_count": 19,
     "metadata": {},
     "output_type": "execute_result"
    }
   ],
   "source": [
    "p1_simple"
   ]
  },
  {
   "cell_type": "code",
   "execution_count": 20,
   "metadata": {},
   "outputs": [
    {
     "data": {
      "text/plain": [
       "{32: {1554: 1.8151777552757613,\n",
       "  17072: 1.3216359572210803,\n",
       "  10230: 1.2643893116093072,\n",
       "  4725: 1.2206854319065445,\n",
       "  5388: 1.1820550639861649,\n",
       "  1188: 1.1015768873329084,\n",
       "  10271: 1.1015768873329084,\n",
       "  18345: 1.1015768873329084,\n",
       "  2178: 0.9744659045581325,\n",
       "  358: 0.9528683565890902}}"
      ]
     },
     "execution_count": 20,
     "metadata": {},
     "output_type": "execute_result"
    }
   ],
   "source": [
    "p1_tf"
   ]
  },
  {
   "cell_type": "code",
   "execution_count": 21,
   "metadata": {},
   "outputs": [
    {
     "data": {
      "text/plain": [
       "{32: {5388: 0.017997367216117218,\n",
       "  12912: 0.016666666666666666,\n",
       "  12306: 0.007154151473103359,\n",
       "  37: 0.007142857142857143,\n",
       "  6680: 0.007142857142857143,\n",
       "  6686: 0.007142857142857143,\n",
       "  9961: 0.007142857142857143,\n",
       "  26299: 0.007142857142857143,\n",
       "  17072: 0.003774350649350649,\n",
       "  6468: 0.003314083020637899}}"
      ]
     },
     "execution_count": 21,
     "metadata": {},
     "output_type": "execute_result"
    }
   ],
   "source": [
    "p1_normal"
   ]
  }
 ],
 "metadata": {
  "interpreter": {
   "hash": "13f33c789f1af2cf5b3d9a10229527adea4701fd35bb186d1994877fd73472fd"
  },
  "kernelspec": {
   "display_name": "Python 3.8.5 ('base')",
   "language": "python",
   "name": "python3"
  },
  "language_info": {
   "codemirror_mode": {
    "name": "ipython",
    "version": 3
   },
   "file_extension": ".py",
   "mimetype": "text/x-python",
   "name": "python",
   "nbconvert_exporter": "python",
   "pygments_lexer": "ipython3",
   "version": "3.8.5"
  },
  "orig_nbformat": 4
 },
 "nbformat": 4,
 "nbformat_minor": 2
}
